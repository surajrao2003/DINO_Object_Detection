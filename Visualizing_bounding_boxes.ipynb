{
  "nbformat": 4,
  "nbformat_minor": 0,
  "metadata": {
    "colab": {
      "provenance": []
    },
    "kernelspec": {
      "name": "python3",
      "display_name": "Python 3"
    },
    "language_info": {
      "name": "python"
    }
  },
  "cells": [
    {
      "cell_type": "code",
      "source": [
        "from google.colab import drive\n",
        "drive.mount('/content/drive')\n"
      ],
      "metadata": {
        "colab": {
          "base_uri": "https://localhost:8080/"
        },
        "id": "HQUyoIAc3SvO",
        "outputId": "988304c1-7589-447c-90c2-44aa5521bab0"
      },
      "execution_count": null,
      "outputs": [
        {
          "output_type": "stream",
          "name": "stdout",
          "text": [
            "Mounted at /content/drive\n"
          ]
        }
      ]
    },
    {
      "cell_type": "code",
      "source": [
        "import os\n",
        "import json\n",
        "import matplotlib.pyplot as plt\n",
        "from PIL import Image\n",
        "import zipfile\n",
        "import shutil\n",
        "\n",
        "# Define paths\n",
        "dataset_base_path = '/content/drive/MyDrive/CV_assignment_iitd/Pedestrian_dataset_for_internship_assignment/Pedestrian_dataset_for_internship_assignment'\n",
        "images_path = dataset_base_path  # Path to your images\n",
        "gt_json_path = os.path.join(dataset_base_path, 'random_sample_mavi_2_gt.json')\n",
        "output_folder = '/content/visualizations'  # Output folder for visualized images\n",
        "\n",
        "# Create or clear the output folder\n",
        "if os.path.exists(output_folder):\n",
        "    shutil.rmtree(output_folder)\n",
        "os.makedirs(output_folder)\n",
        "\n",
        "# Load the ground truth annotations\n",
        "with open(gt_json_path) as f:\n",
        "    gt_data = json.load(f)\n",
        "\n",
        "# Function to visualize images with bounding boxes and save them\n",
        "def visualize_image_with_boxes(image_path, boxes, output_path):\n",
        "    image = Image.open(image_path)\n",
        "    plt.imshow(image)\n",
        "    ax = plt.gca()\n",
        "\n",
        "    for box in boxes:\n",
        "        x, y, width, height = box['bbox']\n",
        "        rect = plt.Rectangle((x, y), width, height, fill=False, color='red', linewidth=2)\n",
        "        ax.add_patch(rect)\n",
        "\n",
        "    plt.axis('off')\n",
        "    plt.savefig(output_path, bbox_inches='tight', pad_inches=0)\n",
        "    plt.close()\n",
        "\n",
        "# Loop through the images and their annotations\n",
        "for img_info in gt_data['images']:\n",
        "    image_id = img_info['id']\n",
        "    image_file = img_info['file_name']\n",
        "\n",
        "    # Load corresponding annotations for this image\n",
        "    boxes = [ann for ann in gt_data['annotations'] if ann['image_id'] == image_id]\n",
        "\n",
        "    # Visualize the image with bounding boxes\n",
        "    image_path = os.path.join(images_path, image_file)\n",
        "    output_path = os.path.join(output_folder, f'visualized_{image_file}')\n",
        "    visualize_image_with_boxes(image_path, boxes, output_path)\n",
        "\n",
        "# Zip the output folder for downloading\n",
        "zip_file_path = '/content/visualizations.zip'\n",
        "with zipfile.ZipFile(zip_file_path, 'w') as zipf:\n",
        "    for root, _, files in os.walk(output_folder):\n",
        "        for file in files:\n",
        "            zipf.write(os.path.join(root, file), file)\n",
        "\n",
        "print(f\"Visualizations saved to: {output_folder}\")\n",
        "print(f\"Download the zip file: {zip_file_path}\")\n"
      ],
      "metadata": {
        "colab": {
          "base_uri": "https://localhost:8080/"
        },
        "id": "x4rwDbeD3VG5",
        "outputId": "3098e5c0-0417-4c13-ee6b-157b598a7da6"
      },
      "execution_count": null,
      "outputs": [
        {
          "output_type": "stream",
          "name": "stdout",
          "text": [
            "Visualizations saved to: /content/visualizations\n",
            "Download the zip file: /content/visualizations.zip\n"
          ]
        }
      ]
    },
    {
      "cell_type": "code",
      "source": [
        "import os\n",
        "\n",
        "# Define the path to your folder\n",
        "folder_path = '/content/visualizations'  # Change this to your folder path\n",
        "\n",
        "# List all image files in the folder\n",
        "image_files = [f for f in os.listdir(folder_path) if f.endswith(('.jpg', '.png', '.jpeg'))]\n",
        "\n",
        "# Count the number of images\n",
        "num_images = len(image_files)\n",
        "\n",
        "print(f\"Number of images in the folder: {num_images}\")\n"
      ],
      "metadata": {
        "id": "-pvnCnKb8Iay",
        "outputId": "9f0a2f3a-d49f-450b-a2e0-e3c54179696a",
        "colab": {
          "base_uri": "https://localhost:8080/"
        }
      },
      "execution_count": null,
      "outputs": [
        {
          "output_type": "stream",
          "name": "stdout",
          "text": [
            "Number of images in the folder: 199\n"
          ]
        }
      ]
    }
  ]
}